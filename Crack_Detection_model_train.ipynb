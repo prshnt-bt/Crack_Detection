{
 "cells": [
  {
   "cell_type": "code",
   "execution_count": 1,
   "id": "84a41d3c",
   "metadata": {},
   "outputs": [],
   "source": [
    "from keras.preprocessing.image import ImageDataGenerator"
   ]
  },
  {
   "cell_type": "code",
   "execution_count": 2,
   "id": "62ea2706",
   "metadata": {},
   "outputs": [],
   "source": [
    "import keras\n",
    "from keras.models import Sequential\n",
    "from keras.layers import Dense\n",
    "\n",
    "from PIL import Image"
   ]
  },
  {
   "cell_type": "code",
   "execution_count": 3,
   "id": "07fd6dfa",
   "metadata": {},
   "outputs": [],
   "source": [
    "from keras.applications import ResNet50\n",
    "from tensorflow.keras.applications.resnet50 import preprocess_input"
   ]
  },
  {
   "cell_type": "code",
   "execution_count": 4,
   "id": "d4389715",
   "metadata": {},
   "outputs": [],
   "source": [
    "num_classes = 2\n",
    "\n",
    "image_resize = 224\n",
    "\n",
    "batch_size_training = 100\n",
    "batch_size_validation = 100"
   ]
  },
  {
   "cell_type": "code",
   "execution_count": 5,
   "id": "166d0b3a",
   "metadata": {},
   "outputs": [],
   "source": [
    "data_generator = ImageDataGenerator(\n",
    "    preprocessing_function=preprocess_input,\n",
    ")"
   ]
  },
  {
   "cell_type": "code",
   "execution_count": 6,
   "id": "82120abd",
   "metadata": {},
   "outputs": [
    {
     "name": "stdout",
     "output_type": "stream",
     "text": [
      "Found 30001 images belonging to 2 classes.\n"
     ]
    }
   ],
   "source": [
    "train_generator = data_generator.flow_from_directory(\n",
    "    'concrete_data_week3/train',\n",
    "    target_size=(image_resize, image_resize),\n",
    "    batch_size=batch_size_training,\n",
    "    class_mode='categorical')"
   ]
  },
  {
   "cell_type": "code",
   "execution_count": 7,
   "id": "52b40fd4",
   "metadata": {},
   "outputs": [
    {
     "name": "stdout",
     "output_type": "stream",
     "text": [
      "Found 10001 images belonging to 2 classes.\n"
     ]
    }
   ],
   "source": [
    "validation_generator = data_generator.flow_from_directory(\n",
    "    'concrete_data_week3/valid',\n",
    "    target_size=(image_resize, image_resize),\n",
    "    batch_size=batch_size_validation,\n",
    "    class_mode='categorical')"
   ]
  },
  {
   "cell_type": "code",
   "execution_count": 8,
   "id": "8d4026c4",
   "metadata": {},
   "outputs": [],
   "source": [
    "model = Sequential()"
   ]
  },
  {
   "cell_type": "code",
   "execution_count": 9,
   "id": "26fa0b33",
   "metadata": {},
   "outputs": [],
   "source": [
    "model.add(ResNet50(\n",
    "    include_top=False,\n",
    "    pooling='avg',\n",
    "    weights='imagenet',\n",
    "    ))"
   ]
  },
  {
   "cell_type": "code",
   "execution_count": 10,
   "id": "3ff2e5b7",
   "metadata": {},
   "outputs": [],
   "source": [
    "model.add(Dense(num_classes, activation='softmax'))"
   ]
  },
  {
   "cell_type": "code",
   "execution_count": 17,
   "id": "72f377af",
   "metadata": {},
   "outputs": [
    {
     "data": {
      "text/plain": [
       "[<keras.engine.input_layer.InputLayer at 0x12d8e427760>,\n",
       " <keras.layers.reshaping.zero_padding2d.ZeroPadding2D at 0x12d8e45c1c0>,\n",
       " <keras.layers.convolutional.conv2d.Conv2D at 0x12d8e45c550>,\n",
       " <keras.layers.normalization.batch_normalization.BatchNormalization at 0x12d8e45da80>,\n",
       " <keras.layers.core.activation.Activation at 0x12d8e45cb50>,\n",
       " <keras.layers.reshaping.zero_padding2d.ZeroPadding2D at 0x12d8fd01e10>,\n",
       " <keras.layers.pooling.max_pooling2d.MaxPooling2D at 0x12d8fd023e0>,\n",
       " <keras.layers.convolutional.conv2d.Conv2D at 0x12d8fd476a0>,\n",
       " <keras.layers.normalization.batch_normalization.BatchNormalization at 0x12d8fd5ff70>,\n",
       " <keras.layers.core.activation.Activation at 0x12d8fd02aa0>,\n",
       " <keras.layers.convolutional.conv2d.Conv2D at 0x12d8fd99b70>,\n",
       " <keras.layers.normalization.batch_normalization.BatchNormalization at 0x12d8fd9ada0>,\n",
       " <keras.layers.core.activation.Activation at 0x12d8fd981f0>,\n",
       " <keras.layers.convolutional.conv2d.Conv2D at 0x12d8fd449d0>,\n",
       " <keras.layers.convolutional.conv2d.Conv2D at 0x12d8fd9bac0>,\n",
       " <keras.layers.normalization.batch_normalization.BatchNormalization at 0x12d8fd47550>,\n",
       " <keras.layers.normalization.batch_normalization.BatchNormalization at 0x12d8fd981c0>,\n",
       " <keras.layers.merging.add.Add at 0x12d8fd9b610>,\n",
       " <keras.layers.core.activation.Activation at 0x12d8fd02d70>,\n",
       " <keras.layers.convolutional.conv2d.Conv2D at 0x12d8fd46da0>,\n",
       " <keras.layers.normalization.batch_normalization.BatchNormalization at 0x12d8fd5d5d0>,\n",
       " <keras.layers.core.activation.Activation at 0x12d8fd5d450>,\n",
       " <keras.layers.convolutional.conv2d.Conv2D at 0x12d8fdd0970>,\n",
       " <keras.layers.normalization.batch_normalization.BatchNormalization at 0x12d8fdd1ba0>,\n",
       " <keras.layers.core.activation.Activation at 0x12d8fdb79a0>,\n",
       " <keras.layers.convolutional.conv2d.Conv2D at 0x12d8fdea560>,\n",
       " <keras.layers.normalization.batch_normalization.BatchNormalization at 0x12d8fdeb790>,\n",
       " <keras.layers.merging.add.Add at 0x12d8fde8d90>,\n",
       " <keras.layers.core.activation.Activation at 0x12d8fdf9c00>,\n",
       " <keras.layers.convolutional.conv2d.Conv2D at 0x12d8fe1a290>,\n",
       " <keras.layers.normalization.batch_normalization.BatchNormalization at 0x12d8fe1bbe0>,\n",
       " <keras.layers.core.activation.Activation at 0x12d8fe18be0>,\n",
       " <keras.layers.convolutional.conv2d.Conv2D at 0x12d8fdf9540>,\n",
       " <keras.layers.normalization.batch_normalization.BatchNormalization at 0x12d8fdf8670>,\n",
       " <keras.layers.core.activation.Activation at 0x12d8fdf9db0>,\n",
       " <keras.layers.convolutional.conv2d.Conv2D at 0x12d8fdd02e0>,\n",
       " <keras.layers.normalization.batch_normalization.BatchNormalization at 0x12d8fdb47f0>,\n",
       " <keras.layers.merging.add.Add at 0x12d8fdd28f0>,\n",
       " <keras.layers.core.activation.Activation at 0x12d8fd5e080>,\n",
       " <keras.layers.convolutional.conv2d.Conv2D at 0x12d8fe34e20>,\n",
       " <keras.layers.normalization.batch_normalization.BatchNormalization at 0x12d8fe4a8f0>,\n",
       " <keras.layers.core.activation.Activation at 0x12d8fe5edd0>,\n",
       " <keras.layers.convolutional.conv2d.Conv2D at 0x12d8fe5ef50>,\n",
       " <keras.layers.normalization.batch_normalization.BatchNormalization at 0x12d8fe5d570>,\n",
       " <keras.layers.core.activation.Activation at 0x12d8fe5ff70>,\n",
       " <keras.layers.convolutional.conv2d.Conv2D at 0x12d8fe35720>,\n",
       " <keras.layers.convolutional.conv2d.Conv2D at 0x12d8fe48e20>,\n",
       " <keras.layers.normalization.batch_normalization.BatchNormalization at 0x12d8fe378e0>,\n",
       " <keras.layers.normalization.batch_normalization.BatchNormalization at 0x12d8fd7e950>,\n",
       " <keras.layers.merging.add.Add at 0x12d8fd7e320>,\n",
       " <keras.layers.core.activation.Activation at 0x12d8fd45270>,\n",
       " <keras.layers.convolutional.conv2d.Conv2D at 0x12d8fdd3250>,\n",
       " <keras.layers.normalization.batch_normalization.BatchNormalization at 0x12d8fdd2d40>,\n",
       " <keras.layers.core.activation.Activation at 0x12d8fdd2fb0>,\n",
       " <keras.layers.convolutional.conv2d.Conv2D at 0x12d8fe7ded0>,\n",
       " <keras.layers.normalization.batch_normalization.BatchNormalization at 0x12d8fe7ee00>,\n",
       " <keras.layers.core.activation.Activation at 0x12d8fe1b280>,\n",
       " <keras.layers.convolutional.conv2d.Conv2D at 0x12d8fe8b8e0>,\n",
       " <keras.layers.normalization.batch_normalization.BatchNormalization at 0x12d8fea0a60>,\n",
       " <keras.layers.merging.add.Add at 0x12d8fea32e0>,\n",
       " <keras.layers.core.activation.Activation at 0x12d8fea3940>,\n",
       " <keras.layers.convolutional.conv2d.Conv2D at 0x12d8fea2230>,\n",
       " <keras.layers.normalization.batch_normalization.BatchNormalization at 0x12d8fea14e0>,\n",
       " <keras.layers.core.activation.Activation at 0x12d8fea3ca0>,\n",
       " <keras.layers.convolutional.conv2d.Conv2D at 0x12d8fe8a470>,\n",
       " <keras.layers.normalization.batch_normalization.BatchNormalization at 0x12d8fe1ae30>,\n",
       " <keras.layers.core.activation.Activation at 0x12d8fe7e260>,\n",
       " <keras.layers.convolutional.conv2d.Conv2D at 0x12d8fd5e230>,\n",
       " <keras.layers.normalization.batch_normalization.BatchNormalization at 0x12d8fe48df0>,\n",
       " <keras.layers.merging.add.Add at 0x12d8fd453c0>,\n",
       " <keras.layers.core.activation.Activation at 0x12d8febd630>,\n",
       " <keras.layers.convolutional.conv2d.Conv2D at 0x12d8fed8be0>,\n",
       " <keras.layers.normalization.batch_normalization.BatchNormalization at 0x12d8fedada0>,\n",
       " <keras.layers.core.activation.Activation at 0x12d8fed8160>,\n",
       " <keras.layers.convolutional.conv2d.Conv2D at 0x12d8fee5ff0>,\n",
       " <keras.layers.normalization.batch_normalization.BatchNormalization at 0x12d8fee7250>,\n",
       " <keras.layers.core.activation.Activation at 0x12d8ff02740>,\n",
       " <keras.layers.convolutional.conv2d.Conv2D at 0x12d8ff03c70>,\n",
       " <keras.layers.normalization.batch_normalization.BatchNormalization at 0x12d8ff03610>,\n",
       " <keras.layers.merging.add.Add at 0x12d8ff02800>,\n",
       " <keras.layers.core.activation.Activation at 0x12d8fed94e0>,\n",
       " <keras.layers.convolutional.conv2d.Conv2D at 0x12d8fd45d80>,\n",
       " <keras.layers.normalization.batch_normalization.BatchNormalization at 0x12d8fe4baf0>,\n",
       " <keras.layers.core.activation.Activation at 0x12d8febd1e0>,\n",
       " <keras.layers.convolutional.conv2d.Conv2D at 0x12d8ff19990>,\n",
       " <keras.layers.normalization.batch_normalization.BatchNormalization at 0x12d8ff1abc0>,\n",
       " <keras.layers.core.activation.Activation at 0x12d8ff18130>,\n",
       " <keras.layers.convolutional.conv2d.Conv2D at 0x12d8febc880>,\n",
       " <keras.layers.convolutional.conv2d.Conv2D at 0x12d8ff2b580>,\n",
       " <keras.layers.normalization.batch_normalization.BatchNormalization at 0x12d8febf0d0>,\n",
       " <keras.layers.normalization.batch_normalization.BatchNormalization at 0x12d8ff42ad0>,\n",
       " <keras.layers.merging.add.Add at 0x12d8ff40310>,\n",
       " <keras.layers.core.activation.Activation at 0x12d8ff42110>,\n",
       " <keras.layers.convolutional.conv2d.Conv2D at 0x12d8ff294b0>,\n",
       " <keras.layers.normalization.batch_normalization.BatchNormalization at 0x12d8ff29ff0>,\n",
       " <keras.layers.core.activation.Activation at 0x12d8ff41ff0>,\n",
       " <keras.layers.convolutional.conv2d.Conv2D at 0x12d8fdea6e0>,\n",
       " <keras.layers.normalization.batch_normalization.BatchNormalization at 0x12d8fdd2d10>,\n",
       " <keras.layers.core.activation.Activation at 0x12d8ff186d0>,\n",
       " <keras.layers.convolutional.conv2d.Conv2D at 0x12d8fedb850>,\n",
       " <keras.layers.normalization.batch_normalization.BatchNormalization at 0x12d8fedb550>,\n",
       " <keras.layers.merging.add.Add at 0x12d8fed9060>,\n",
       " <keras.layers.core.activation.Activation at 0x12d8ff6a020>,\n",
       " <keras.layers.convolutional.conv2d.Conv2D at 0x12d8ff71d20>,\n",
       " <keras.layers.normalization.batch_normalization.BatchNormalization at 0x12d8ff73ee0>,\n",
       " <keras.layers.core.activation.Activation at 0x12d8ff70640>,\n",
       " <keras.layers.convolutional.conv2d.Conv2D at 0x12d8ff8f130>,\n",
       " <keras.layers.normalization.batch_normalization.BatchNormalization at 0x12d8ff8fd90>,\n",
       " <keras.layers.core.activation.Activation at 0x12d8ff8cbb0>,\n",
       " <keras.layers.convolutional.conv2d.Conv2D at 0x12d8ff729e0>,\n",
       " <keras.layers.normalization.batch_normalization.BatchNormalization at 0x12d8ff70040>,\n",
       " <keras.layers.merging.add.Add at 0x12d8fee6770>,\n",
       " <keras.layers.core.activation.Activation at 0x12d8fe1afb0>,\n",
       " <keras.layers.convolutional.conv2d.Conv2D at 0x12d8fd46110>,\n",
       " <keras.layers.normalization.batch_normalization.BatchNormalization at 0x12d8fd45210>,\n",
       " <keras.layers.core.activation.Activation at 0x12d8fd03ca0>,\n",
       " <keras.layers.convolutional.conv2d.Conv2D at 0x12d8ffa6230>,\n",
       " <keras.layers.normalization.batch_normalization.BatchNormalization at 0x12d8ffa5450>,\n",
       " <keras.layers.core.activation.Activation at 0x12d8ff28ac0>,\n",
       " <keras.layers.convolutional.conv2d.Conv2D at 0x12d8ffbb0a0>,\n",
       " <keras.layers.normalization.batch_normalization.BatchNormalization at 0x12d8ffbbd00>,\n",
       " <keras.layers.merging.add.Add at 0x12d8ffceb90>,\n",
       " <keras.layers.core.activation.Activation at 0x12d8ffcc790>,\n",
       " <keras.layers.convolutional.conv2d.Conv2D at 0x12d8ffcd810>,\n",
       " <keras.layers.normalization.batch_normalization.BatchNormalization at 0x12d8ffcd330>,\n",
       " <keras.layers.core.activation.Activation at 0x12d8ffcff40>,\n",
       " <keras.layers.convolutional.conv2d.Conv2D at 0x12d8ff28dc0>,\n",
       " <keras.layers.normalization.batch_normalization.BatchNormalization at 0x12d8ff40bb0>,\n",
       " <keras.layers.core.activation.Activation at 0x12d8ffb9f60>,\n",
       " <keras.layers.convolutional.conv2d.Conv2D at 0x12d8ff72c80>,\n",
       " <keras.layers.normalization.batch_normalization.BatchNormalization at 0x12d8fee50c0>,\n",
       " <keras.layers.merging.add.Add at 0x12d8febca60>,\n",
       " <keras.layers.core.activation.Activation at 0x12d8ffebc40>,\n",
       " <keras.layers.convolutional.conv2d.Conv2D at 0x12d900097e0>,\n",
       " <keras.layers.normalization.batch_normalization.BatchNormalization at 0x12d9000b9a0>,\n",
       " <keras.layers.core.activation.Activation at 0x12d90008ee0>,\n",
       " <keras.layers.convolutional.conv2d.Conv2D at 0x12d90016bf0>,\n",
       " <keras.layers.normalization.batch_normalization.BatchNormalization at 0x12d90017ee0>,\n",
       " <keras.layers.core.activation.Activation at 0x12d9002f070>,\n",
       " <keras.layers.convolutional.conv2d.Conv2D at 0x12d9002ece0>,\n",
       " <keras.layers.normalization.batch_normalization.BatchNormalization at 0x12d9002cb80>,\n",
       " <keras.layers.merging.add.Add at 0x12d9002fac0>,\n",
       " <keras.layers.core.activation.Activation at 0x12d8fd5cc70>,\n",
       " <keras.layers.convolutional.conv2d.Conv2D at 0x12d9002ed40>,\n",
       " <keras.layers.normalization.batch_normalization.BatchNormalization at 0x12d8fee45e0>,\n",
       " <keras.layers.core.activation.Activation at 0x12d9000b1f0>,\n",
       " <keras.layers.convolutional.conv2d.Conv2D at 0x12d8ffb88b0>,\n",
       " <keras.layers.normalization.batch_normalization.BatchNormalization at 0x12d8ffe9780>,\n",
       " <keras.layers.core.activation.Activation at 0x12d8ff6beb0>,\n",
       " <keras.layers.convolutional.conv2d.Conv2D at 0x12d8ffe8d90>,\n",
       " <keras.layers.convolutional.conv2d.Conv2D at 0x12d9005b370>,\n",
       " <keras.layers.normalization.batch_normalization.BatchNormalization at 0x12d9000b2b0>,\n",
       " <keras.layers.normalization.batch_normalization.BatchNormalization at 0x12d9005b9d0>,\n",
       " <keras.layers.merging.add.Add at 0x12d9007ca90>,\n",
       " <keras.layers.core.activation.Activation at 0x12d9007e140>,\n",
       " <keras.layers.convolutional.conv2d.Conv2D at 0x12d9007ea40>,\n",
       " <keras.layers.normalization.batch_normalization.BatchNormalization at 0x12d9007d570>,\n",
       " <keras.layers.core.activation.Activation at 0x12d9007fdc0>,\n",
       " <keras.layers.convolutional.conv2d.Conv2D at 0x12d9007df30>,\n",
       " <keras.layers.normalization.batch_normalization.BatchNormalization at 0x12d9007d6f0>,\n",
       " <keras.layers.core.activation.Activation at 0x12d9007cdc0>,\n",
       " <keras.layers.convolutional.conv2d.Conv2D at 0x12d8ffb8490>,\n",
       " <keras.layers.normalization.batch_normalization.BatchNormalization at 0x12d8febf190>,\n",
       " <keras.layers.merging.add.Add at 0x12d9004e4d0>,\n",
       " <keras.layers.core.activation.Activation at 0x12d9007e050>,\n",
       " <keras.layers.convolutional.conv2d.Conv2D at 0x12d9000a740>,\n",
       " <keras.layers.normalization.batch_normalization.BatchNormalization at 0x12d90015810>,\n",
       " <keras.layers.core.activation.Activation at 0x12d8fdd29b0>,\n",
       " <keras.layers.convolutional.conv2d.Conv2D at 0x12d900b2830>,\n",
       " <keras.layers.normalization.batch_normalization.BatchNormalization at 0x12d900b2e90>,\n",
       " <keras.layers.core.activation.Activation at 0x12d900b0f70>,\n",
       " <keras.layers.convolutional.conv2d.Conv2D at 0x12d900b34f0>,\n",
       " <keras.layers.normalization.batch_normalization.BatchNormalization at 0x12d900b1b40>,\n",
       " <keras.layers.merging.add.Add at 0x12d900b2710>,\n",
       " <keras.layers.core.activation.Activation at 0x12d8ff70b50>,\n",
       " <keras.layers.pooling.global_average_pooling2d.GlobalAveragePooling2D at 0x12d8ff70c70>]"
      ]
     },
     "execution_count": 17,
     "metadata": {},
     "output_type": "execute_result"
    }
   ],
   "source": [
    "model.layers[0]"
   ]
  },
  {
   "cell_type": "code",
   "execution_count": 12,
   "id": "9818ff00",
   "metadata": {},
   "outputs": [
    {
     "name": "stdout",
     "output_type": "stream",
     "text": [
      "Model: \"sequential\"\n",
      "_________________________________________________________________\n",
      " Layer (type)                Output Shape              Param #   \n",
      "=================================================================\n",
      " resnet50 (Functional)       (None, 2048)              23587712  \n",
      "                                                                 \n",
      " dense (Dense)               (None, 2)                 4098      \n",
      "                                                                 \n",
      "=================================================================\n",
      "Total params: 23,591,810\n",
      "Trainable params: 23,538,690\n",
      "Non-trainable params: 53,120\n",
      "_________________________________________________________________\n"
     ]
    }
   ],
   "source": [
    "model.summary()"
   ]
  },
  {
   "cell_type": "code",
   "execution_count": 13,
   "id": "5031e886",
   "metadata": {},
   "outputs": [],
   "source": [
    "model.compile(optimizer='adam', loss='categorical_crossentropy', metrics=['accuracy'])"
   ]
  },
  {
   "cell_type": "code",
   "execution_count": 14,
   "id": "445d06f6",
   "metadata": {},
   "outputs": [],
   "source": [
    "steps_per_epoch_training = len(train_generator)\n",
    "steps_per_epoch_validation = len(validation_generator)\n",
    "num_epochs = 2"
   ]
  },
  {
   "cell_type": "code",
   "execution_count": 15,
   "id": "5d7dc61d",
   "metadata": {},
   "outputs": [
    {
     "name": "stderr",
     "output_type": "stream",
     "text": [
      "C:\\Users\\Prashant Bisht\\AppData\\Local\\Temp\\ipykernel_13676\\251737888.py:1: UserWarning: `Model.fit_generator` is deprecated and will be removed in a future version. Please use `Model.fit`, which supports generators.\n",
      "  fit_history = model.fit_generator(\n"
     ]
    },
    {
     "name": "stdout",
     "output_type": "stream",
     "text": [
      "Epoch 1/2\n",
      "301/301 [==============================] - 16375s 54s/step - loss: 0.0295 - accuracy: 0.9925 - val_loss: 0.1002 - val_accuracy: 0.9922\n",
      "Epoch 2/2\n",
      "301/301 [==============================] - 14566s 48s/step - loss: 0.0141 - accuracy: 0.9957 - val_loss: 0.0743 - val_accuracy: 0.9906\n"
     ]
    }
   ],
   "source": [
    "fit_history = model.fit_generator(\n",
    "    train_generator,\n",
    "    steps_per_epoch=steps_per_epoch_training,\n",
    "    epochs=num_epochs,\n",
    "    validation_data=validation_generator,\n",
    "    validation_steps=steps_per_epoch_qvalidation,\n",
    "    verbose=1,\n",
    ")"
   ]
  },
  {
   "cell_type": "code",
   "execution_count": 16,
   "id": "72c1b70e",
   "metadata": {},
   "outputs": [],
   "source": [
    "model.save('classifier_resnet_model.h5')"
   ]
  },
  {
   "cell_type": "code",
   "execution_count": null,
   "id": "45644683",
   "metadata": {},
   "outputs": [],
   "source": []
  }
 ],
 "metadata": {
  "kernelspec": {
   "display_name": "Python 3 (ipykernel)",
   "language": "python",
   "name": "python3"
  },
  "language_info": {
   "codemirror_mode": {
    "name": "ipython",
    "version": 3
   },
   "file_extension": ".py",
   "mimetype": "text/x-python",
   "name": "python",
   "nbconvert_exporter": "python",
   "pygments_lexer": "ipython3",
   "version": "3.10.13"
  }
 },
 "nbformat": 4,
 "nbformat_minor": 5
}
